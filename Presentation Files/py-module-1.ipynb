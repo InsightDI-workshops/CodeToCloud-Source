{
 "cells": [
  {
   "cell_type": "markdown",
   "metadata": {},
   "source": [
    "# Managability and Visibility #\n",
    "\n",
    "- Improve Code Visability with GitHub and Azure DevOps\n",
    "- Improve Security with Dependabot and CodeQL\n",
    "- Improve the Development Life Cycle With Docker  \n",
    "- Improve local Development with Docker-Compose"
   ]
  },
  {
   "cell_type": "markdown",
   "metadata": {},
   "source": [
    "# [Azure DevOps](https://dev.azure.com/AndrewSutliff/AndrewCapstone/_boards/board/t/AndrewCapstone%20Team/Issues)\n",
    "![image](https://learn.microsoft.com/en-us/azure/devops/boards/boards/media/alm_cc_updatefieldoncard.png?view=azure-devops)"
   ]
  },
  {
   "cell_type": "markdown",
   "metadata": {},
   "source": [
    "### Making Changes ###"
   ]
  },
  {
   "cell_type": "code",
   "execution_count": 5,
   "metadata": {
    "vscode": {
     "languageId": "shellscript"
    }
   },
   "outputs": [
    {
     "name": "stdout",
     "output_type": "stream",
     "text": [
      "Hello, World!Some Text\n",
      "\\n Some Text\n"
     ]
    }
   ],
   "source": [
    "!cat test.txt"
   ]
  },
  {
   "cell_type": "code",
   "execution_count": 4,
   "metadata": {
    "vscode": {
     "languageId": "shellscript"
    }
   },
   "outputs": [],
   "source": [
    "!echo 'Some Text' >> test.txt"
   ]
  },
  {
   "cell_type": "code",
   "execution_count": null,
   "metadata": {
    "vscode": {
     "languageId": "shellscript"
    }
   },
   "outputs": [],
   "source": [
    "!git checkout -b andrew/azure-test && \\\n",
    "git add . && \\\n",
    "git commit -m \"demo changes for azure boards AB#15\" && \\\n",
    "git push origin andrew/azure-test"
   ]
  },
  {
   "cell_type": "markdown",
   "metadata": {},
   "source": [
    "# [Security](https://github.com/AndrewSutliff-insight/CodeToCloud-Source/security) #\n",
    "<img src=\"https://avatars.githubusercontent.com/u/27347476?s=280&v=4\" alt=\"dependabot\" width=\"200\"/> <img src=\"https://miro.medium.com/max/427/0*gDBWBQ_szNyCKQJw.png\" alt=\"CodeQL\" width=\"200\"/>"
   ]
  },
  {
   "cell_type": "markdown",
   "metadata": {},
   "source": [
    "# New Workflow #\n",
    "![image](Module1-workflow.png)\n"
   ]
  },
  {
   "cell_type": "markdown",
   "metadata": {},
   "source": [
    "### Docker Containers ###\n",
    "<img src=\"https://upload.wikimedia.org/wikipedia/commons/thumb/4/4e/Docker_%28container_engine%29_logo.svg/2560px-Docker_%28container_engine%29_logo.svg.png\" alt=\"docker\" width=\"500\"/>"
   ]
  },
  {
   "cell_type": "markdown",
   "metadata": {},
   "source": [
    "content-web/Dockerfile\n",
    "```\n",
    "FROM node:dubnium-alpine AS base\n",
    "RUN apk -U add curl\n",
    "WORKDIR /usr/src/app\n",
    "ENV PORT=80\n",
    "EXPOSE 80\n",
    "ENV CONTENT_API_URL=http://api:3001\n",
    "\n",
    "FROM node:dubnium AS build\n",
    "RUN npm install -g @angular/cli@~8.3.4\n",
    "\n",
    "WORKDIR /usr/src/app\n",
    "\n",
    "# Install app dependencies\n",
    "COPY package.json /usr/src/app/\n",
    "RUN npm install\n",
    "\n",
    "# Bundle app source\n",
    "COPY . /usr/src/app\n",
    "RUN ng build \n",
    "\n",
    "FROM base as final\n",
    "WORKDIR /usr/src/app\n",
    "COPY --from=build /usr/src/app .\n",
    "CMD [ \"node\", \"app.js\" ]\n",
    "\n",
    "```"
   ]
  },
  {
   "cell_type": "code",
   "execution_count": null,
   "metadata": {
    "vscode": {
     "languageId": "shellscript"
    }
   },
   "outputs": [],
   "source": [
    "!cd ./content-init && docker build -t fabrikam-init . && \\  \n",
    "cd ../content-api && docker build -t fabrikam-api . && \\  \n",
    "cd ../content-web && docker build -t fabrikam-webapp ."
   ]
  },
  {
   "cell_type": "code",
   "execution_count": null,
   "metadata": {
    "vscode": {
     "languageId": "shellscript"
    }
   },
   "outputs": [],
   "source": [
    "!docker run -d --name mongo --net fabrikam -p 27017:27017 mongo && \\  \n",
    "docker run -ti --name init --net fabrikam fabrikam-init && \\  \n",
    "docker run -d --name api -p 3001:3001 --net fabrikam fabrikam-api && \\  \n",
    "docker run -d --name web -p 3000:80 --net fabrikam fabrikam-web"
   ]
  },
  {
   "cell_type": "code",
   "execution_count": null,
   "metadata": {
    "vscode": {
     "languageId": "shellscript"
    }
   },
   "outputs": [],
   "source": [
    "#clean up\n",
    "!docker rm -f $(docker ps -aq)"
   ]
  },
  {
   "cell_type": "markdown",
   "metadata": {},
   "source": [
    "### Local Docker Testing with Docker-Compose ###"
   ]
  },
  {
   "cell_type": "markdown",
   "metadata": {},
   "source": [
    "local.docker-compose.yml\n",
    "```\n",
    "version: \"3.4\"\n",
    "services:\n",
    "  mongo:\n",
    "    image: mongo\n",
    "    restart: always\n",
    "\n",
    "  api:\n",
    "    build: ./content-api\n",
    "    image: local-fabrikam-api\n",
    "    depends_on:\n",
    "      - mongo\n",
    "    environment:\n",
    "      MONGODB_CONNECTION: mongodb://mongo:27017/contentdb    \n",
    "\n",
    "  webapp:\n",
    "    build: ./content-web\n",
    "    image: local-fabrikam-webapp\n",
    "```"
   ]
  },
  {
   "cell_type": "code",
   "execution_count": null,
   "metadata": {
    "vscode": {
     "languageId": "shellscript"
    }
   },
   "outputs": [],
   "source": [
    "!docker-compose -f docker-compose.yml -f local.docker-compose.yml -f docker-compose.init.yml build\n",
    "docker-compose -f docker-compose.yml -f local.docker-compose.yml -f docker-compose.init.yml up"
   ]
  },
  {
   "cell_type": "code",
   "execution_count": null,
   "metadata": {
    "vscode": {
     "languageId": "shellscript"
    }
   },
   "outputs": [],
   "source": [
    "!MONGODB_ID=$(docker ps --filter name=mongodb -aq)\n",
    "docker stop $(docker ps -aq | sed \"s/$MONGODB_ID//\")\n",
    "#just a little bit of shell script to stop all containers except the database"
   ]
  },
  {
   "cell_type": "code",
   "execution_count": null,
   "metadata": {
    "vscode": {
     "languageId": "shellscript"
    }
   },
   "outputs": [],
   "source": [
    "!docker-compose -f local.docker-compose.yml build\n",
    "docker-compose -f local.docker-compose.yml up"
   ]
  },
  {
   "cell_type": "markdown",
   "metadata": {},
   "source": [
    "### [GitHub Actions](https://github.com/AndrewSutliff-insight/CodeToCloud-Source/actions) Automatic Deployment ###"
   ]
  },
  {
   "cell_type": "code",
   "execution_count": null,
   "metadata": {
    "vscode": {
     "languageId": "shellscript"
    }
   },
   "outputs": [],
   "source": [
    "!git checkout -b andrew/docker-edits && \\\n",
    "git add . && \\\n",
    "git commit -m \"demo changes to fabrikam-webapp AB#10\" && \\\n",
    "git push origin andrew/docker-edits"
   ]
  }
 ],
 "metadata": {
  "kernelspec": {
   "display_name": "Python 3.10.8 64-bit",
   "language": "python",
   "name": "python3"
  },
  "language_info": {
   "codemirror_mode": {
    "name": "ipython",
    "version": 3
   },
   "file_extension": ".py",
   "mimetype": "text/x-python",
   "name": "python",
   "nbconvert_exporter": "python",
   "pygments_lexer": "ipython3",
   "version": "3.10.8"
  },
  "orig_nbformat": 4,
  "vscode": {
   "interpreter": {
    "hash": "aee8b7b246df8f9039afb4144a1f6fd8d2ca17a180786b69acc140d282b71a49"
   }
  }
 },
 "nbformat": 4,
 "nbformat_minor": 2
}
